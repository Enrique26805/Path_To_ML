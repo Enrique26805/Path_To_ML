{
 "cells": [
  {
   "cell_type": "code",
   "execution_count": 5,
   "id": "472f4b23-e673-4fca-82c6-162d33b42273",
   "metadata": {},
   "outputs": [],
   "source": [
    "import numpy as np "
   ]
  },
  {
   "cell_type": "code",
   "execution_count": 27,
   "id": "17d73473-6c99-4bd2-8f62-11213aa3e306",
   "metadata": {},
   "outputs": [
    {
     "name": "stdout",
     "output_type": "stream",
     "text": [
      "[[1 2 3]\n",
      " [4 5 6]]\n"
     ]
    }
   ],
   "source": [
    "oneD_arr = np.array([1,2,3,4,5,6])\n",
    "multiD_arr = np.reshape(oneD_arr, (2,3))\n",
    "print(multiD_arr)"
   ]
  },
  {
   "cell_type": "code",
   "execution_count": 16,
   "id": "ab744e88-b181-474b-9595-342859958671",
   "metadata": {},
   "outputs": [
    {
     "name": "stdout",
     "output_type": "stream",
     "text": [
      "[3 4 5 6 7 8]\n"
     ]
    }
   ],
   "source": [
    "b = np.arange(3,9,)\n",
    "print(b)"
   ]
  },
  {
   "cell_type": "code",
   "execution_count": 21,
   "id": "40f6c8ef-8f8c-408d-8f7a-866b882e377a",
   "metadata": {},
   "outputs": [
    {
     "name": "stdout",
     "output_type": "stream",
     "text": [
      "[  0  25  50  75 100]\n"
     ]
    }
   ],
   "source": [
    "lin_spaced_arr = np.linspace(0,100,5,dtype = int)\n",
    "print(lin_spaced_arr)"
   ]
  },
  {
   "cell_type": "code",
   "execution_count": 23,
   "id": "a81d77bf-bd74-45b4-9e56-918a2794cf73",
   "metadata": {},
   "outputs": [
    {
     "name": "stdout",
     "output_type": "stream",
     "text": [
      "[[1 2 3]\n",
      " [4 5 6]]\n"
     ]
    }
   ],
   "source": [
    "twoD_arr = np.array([[1,2,3], [4,5,6]])\n",
    "print(twoD_arr)"
   ]
  },
  {
   "cell_type": "code",
   "execution_count": 28,
   "id": "5fab4701-d688-4ee0-9735-bef391888870",
   "metadata": {},
   "outputs": [
    {
     "data": {
      "text/plain": [
       "2"
      ]
     },
     "execution_count": 28,
     "metadata": {},
     "output_type": "execute_result"
    }
   ],
   "source": [
    "multiD_arr.ndim"
   ]
  },
  {
   "cell_type": "code",
   "execution_count": 29,
   "id": "af867bd1-1cf2-4ddf-8385-5b0017aa5274",
   "metadata": {},
   "outputs": [
    {
     "data": {
      "text/plain": [
       "(2, 3)"
      ]
     },
     "execution_count": 29,
     "metadata": {},
     "output_type": "execute_result"
    }
   ],
   "source": [
    "multiD_arr.shape"
   ]
  },
  {
   "cell_type": "code",
   "execution_count": 31,
   "id": "ccb8b2d1-5de7-487a-9b9a-b92e7ad08620",
   "metadata": {},
   "outputs": [
    {
     "data": {
      "text/plain": [
       "6"
      ]
     },
     "execution_count": 31,
     "metadata": {},
     "output_type": "execute_result"
    }
   ],
   "source": [
    "multiD_arr.size"
   ]
  },
  {
   "cell_type": "code",
   "execution_count": 34,
   "id": "a09c34a4-7e43-44fc-bdb2-7f236566da29",
   "metadata": {},
   "outputs": [
    {
     "name": "stdout",
     "output_type": "stream",
     "text": [
      "[ 3  7 11]\n",
      "[1 1 1]\n",
      "[ 2 12 30]\n"
     ]
    }
   ],
   "source": [
    "arr_1 = np.array([2,4,6])\n",
    "arr_2 = np.array([1,3,5])\n",
    "\n",
    "addition = arr_1 + arr_2\n",
    "print(addition)\n",
    "\n",
    "sub = arr_1 - arr_2\n",
    "print(sub)\n",
    "\n",
    "prod = arr_1 * arr_2\n",
    "print(prod)"
   ]
  },
  {
   "cell_type": "code",
   "execution_count": 35,
   "id": "4a66540c-a327-4412-805e-a0a6fba7da5b",
   "metadata": {},
   "outputs": [
    {
     "data": {
      "text/plain": [
       "array([1.6, 3.2])"
      ]
     },
     "execution_count": 35,
     "metadata": {},
     "output_type": "execute_result"
    }
   ],
   "source": [
    "vector = np.array([1,2])\n",
    "vector * 1.6"
   ]
  },
  {
   "cell_type": "code",
   "execution_count": 43,
   "id": "f9554bc9-a322-4e78-a325-798cb6baab6a",
   "metadata": {},
   "outputs": [
    {
     "name": "stdout",
     "output_type": "stream",
     "text": [
      "[2 5]\n"
     ]
    }
   ],
   "source": [
    "sliced_arr = twoD_arr[:,1]\n",
    "print(sliced_arr)"
   ]
  },
  {
   "cell_type": "code",
   "execution_count": 45,
   "id": "6daf0f14-60ab-48d5-b1d2-480b7ccc6630",
   "metadata": {},
   "outputs": [
    {
     "name": "stdout",
     "output_type": "stream",
     "text": [
      "a1:\n",
      "[[1 1]\n",
      " [2 2]]\n",
      "a2:\n",
      "[[3 3]\n",
      " [4 4]]\n"
     ]
    }
   ],
   "source": [
    "a1 = np.array([[1,1],\n",
    "               [2,2]])\n",
    "a2 = np.array([[3,3],\n",
    "               [4,4]])\n",
    "print(f'a1:\\n{a1}')\n",
    "print(f'a2:\\n{a2}')"
   ]
  },
  {
   "cell_type": "code",
   "execution_count": 46,
   "id": "63f9d159-6388-4915-a818-5cdfcfe78973",
   "metadata": {},
   "outputs": [
    {
     "name": "stdout",
     "output_type": "stream",
     "text": [
      "[[1 1]\n",
      " [2 2]\n",
      " [3 3]\n",
      " [4 4]]\n"
     ]
    }
   ],
   "source": [
    "vert_stack = np.vstack((a1,a2))\n",
    "print(vert_stack)"
   ]
  },
  {
   "cell_type": "code",
   "execution_count": 48,
   "id": "3f85ccb1-6568-4597-ae3f-bda0358ebcf8",
   "metadata": {},
   "outputs": [
    {
     "name": "stdout",
     "output_type": "stream",
     "text": [
      "[[1 1 3 3]\n",
      " [2 2 4 4]]\n"
     ]
    }
   ],
   "source": [
    "horz_stack = np.hstack((a1,a2))\n",
    "print(horz_stack)"
   ]
  },
  {
   "cell_type": "code",
   "execution_count": 54,
   "id": "3bb17e96-1bb9-4127-af2d-4c1c1338e710",
   "metadata": {},
   "outputs": [
    {
     "name": "stdout",
     "output_type": "stream",
     "text": [
      "Matrix A:\n",
      "[[-1.  3.]\n",
      " [ 3.  2.]]\n",
      "\n",
      " Array b:\n",
      "[7. 1.]\n"
     ]
    }
   ],
   "source": [
    "A = np.array([\n",
    "    [-1,3],\n",
    "    [3,2]\n",
    "    ],dtype = np.dtype(float))\n",
    "\n",
    "b = np.array([7,1], dtype = np.dtype(float))\n",
    "\n",
    "print(\"Matrix A:\")\n",
    "print(A)\n",
    "print(\"\\n Array b:\")\n",
    "print(b)"
   ]
  },
  {
   "cell_type": "code",
   "execution_count": 56,
   "id": "2d4cf89e-3977-44cb-a4ab-e81dfc8e902d",
   "metadata": {},
   "outputs": [
    {
     "name": "stdout",
     "output_type": "stream",
     "text": [
      "Shape of A: (2, 2)\n",
      "Shape of b: (2,)\n"
     ]
    }
   ],
   "source": [
    "print(f\"Shape of A: {A.shape}\")\n",
    "print(f\"Shape of b: {b.shape}\")"
   ]
  },
  {
   "cell_type": "code",
   "execution_count": 57,
   "id": "c7b74d5f-19c6-44e0-9311-4b1b7d5d7447",
   "metadata": {},
   "outputs": [
    {
     "name": "stdout",
     "output_type": "stream",
     "text": [
      "SOlution : [-1.  2.]\n"
     ]
    }
   ],
   "source": [
    " x = np.linalg.solve(A,b)\n",
    "print(f\"SOlution : {x}\")"
   ]
  },
  {
   "cell_type": "code",
   "execution_count": 58,
   "id": "01d7fee3-6b94-4ed7-b67f-3cc8ff3ed84b",
   "metadata": {},
   "outputs": [
    {
     "name": "stdout",
     "output_type": "stream",
     "text": [
      "Determinant of matrix A: -11.000000\n"
     ]
    }
   ],
   "source": [
    "d = np.linalg.det(A)\n",
    "print(f\"Determinant of matrix A: {d: 2f}\")"
   ]
  },
  {
   "cell_type": "code",
   "execution_count": 59,
   "id": "3140692d-ded0-4bc8-8432-bd48bf426508",
   "metadata": {},
   "outputs": [
    {
     "name": "stdout",
     "output_type": "stream",
     "text": [
      "Determinant of matrix A_2: 0.00\n"
     ]
    }
   ],
   "source": [
    "\n",
    "A_2 = np.array([\n",
    "        [-1, 3],\n",
    "        [3, -9]\n",
    "    ], dtype=np.dtype(float))\n",
    "\n",
    "b_2 = np.array([7, 1], dtype=np.dtype(float))\n",
    "\n",
    "d_2 = np.linalg.det(A_2)\n",
    "\n",
    "print(f\"Determinant of matrix A_2: {d_2:.2f}\")"
   ]
  },
  {
   "cell_type": "code",
   "execution_count": 64,
   "id": "c83790f3-5f27-41a8-b055-d1caa6f1bfbb",
   "metadata": {},
   "outputs": [
    {
     "name": "stdout",
     "output_type": "stream",
     "text": [
      "Singular matrix\n"
     ]
    }
   ],
   "source": [
    "try:\n",
    "    x_2 = np.linalg.solve(A_2, b_2)\n",
    "except np.linalg.LinAlgError as err:\n",
    "    print(err)"
   ]
  },
  {
   "cell_type": "code",
   "execution_count": 6,
   "id": "ff6eb4dd-8d6a-44a6-b6cd-32c5bc754e25",
   "metadata": {},
   "outputs": [],
   "source": [
    "A = np.array([\n",
    "        [2,-1,1,1],\n",
    "        [1,2,-1,-1],\n",
    "        [-1,2,2,2],\n",
    "        [1,-1,2,1]\n",
    "    ], dtype = np.dtype(float))\n",
    "b = np.array([6,3,14,8], dtype = np.dtype(float))\n"
   ]
  },
  {
   "cell_type": "code",
   "execution_count": 7,
   "id": "673f3075-8a09-4a1f-9125-19c4c30fd30e",
   "metadata": {},
   "outputs": [
    {
     "name": "stdout",
     "output_type": "stream",
     "text": [
      "Solution vector [2. 3. 4. 1.]\n"
     ]
    }
   ],
   "source": [
    "x = np.linalg.solve(A,b)\n",
    "print(f\"Solution vector {x}\")"
   ]
  },
  {
   "cell_type": "code",
   "execution_count": 9,
   "id": "6be932d6-821c-499f-bd85-6920d5d24fba",
   "metadata": {},
   "outputs": [
    {
     "name": "stdout",
     "output_type": "stream",
     "text": [
      "Determinant of matrix A: -17.000000\n"
     ]
    }
   ],
   "source": [
    "d = np.linalg.det(A)\n",
    "print(f\"Determinant of matrix A: {d:2f}\")"
   ]
  }
 ],
 "metadata": {
  "kernelspec": {
   "display_name": "Python 3 (ipykernel)",
   "language": "python",
   "name": "python3"
  },
  "language_info": {
   "codemirror_mode": {
    "name": "ipython",
    "version": 3
   },
   "file_extension": ".py",
   "mimetype": "text/x-python",
   "name": "python",
   "nbconvert_exporter": "python",
   "pygments_lexer": "ipython3",
   "version": "3.13.5"
  }
 },
 "nbformat": 4,
 "nbformat_minor": 5
}
