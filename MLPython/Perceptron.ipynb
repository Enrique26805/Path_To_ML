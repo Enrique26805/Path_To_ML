{
 "cells": [
  {
   "cell_type": "code",
   "execution_count": 44,
   "id": "a1edef36-2893-4916-926b-c456664fd3ea",
   "metadata": {},
   "outputs": [],
   "source": [
    "import numpy as np \n",
    "import matplotlib.pyplot as plt\n",
    "from sklearn.datasets import make_regression"
   ]
  },
  {
   "cell_type": "code",
   "execution_count": 9,
   "id": "b5180f0c-d393-4a5a-b701-371dbe600f4b",
   "metadata": {},
   "outputs": [],
   "source": [
    "import w3_tools"
   ]
  },
  {
   "cell_type": "code",
   "execution_count": 12,
   "id": "a95029d8-7e6d-4a2a-b1d3-19d81412b54c",
   "metadata": {},
   "outputs": [
    {
     "name": "stdout",
     "output_type": "stream",
     "text": [
      "Training dataset X: \n",
      "[[ 0.3190391  -1.07296862  0.86540763 -0.17242821  1.14472371  0.50249434\n",
      "  -2.3015387  -0.68372786 -0.38405435 -0.87785842 -2.06014071 -1.10061918\n",
      "  -1.09989127  1.13376944  1.74481176 -0.12289023 -0.93576943  1.62434536\n",
      "   1.46210794  0.90159072 -0.7612069   0.53035547 -0.52817175 -0.26788808\n",
      "   0.58281521  0.04221375  0.90085595 -0.24937038 -0.61175641 -0.3224172 ]]\n",
      "Training dataset Y: \n",
      "[[ -3.01854669 -65.65047675  26.96755728   8.70562603  57.94332628\n",
      "   -0.69293498 -78.66594473 -12.73881492 -13.26721663 -24.80488085\n",
      "  -74.24484385 -39.99533724 -22.70174437  73.46766345  55.7257405\n",
      "   23.80417646 -13.45481508  25.57952246  75.91238321  50.91155323\n",
      "  -43.7191551   -1.7025559  -16.44931235 -33.54041234  20.4505961\n",
      "   18.35949302  37.69029586  -1.04801683  -4.47915933 -20.89431647]]\n"
     ]
    }
   ],
   "source": [
    "m = 30\n",
    "X, Y = make_regression(n_samples = m, n_features = 1, noise = 20, random_state = 1)\n",
    "\n",
    "X = X.reshape((1,m))\n",
    "Y = Y.reshape((1,m))\n",
    "\n",
    "print('Training dataset X: ')\n",
    "print(X)\n",
    "print('Training dataset Y: ')\n",
    "print(Y)"
   ]
  },
  {
   "cell_type": "code",
   "execution_count": 13,
   "id": "2c8937c2-c0ba-47c9-825c-e9751bdc62b4",
   "metadata": {},
   "outputs": [
    {
     "data": {
      "text/plain": [
       "<matplotlib.collections.PathCollection at 0x2c8de367cb0>"
      ]
     },
     "execution_count": 13,
     "metadata": {},
     "output_type": "execute_result"
    },
    {
     "data": {
      "image/png": "[encoded data removed]",
      "text/plain": [
       "<Figure size 640x480 with 1 Axes>"
      ]
     },
     "metadata": {},
     "output_type": "display_data"
    }
   ],
   "source": [
    "plt.scatter(X,Y, c = \"black\")"
   ]
  },
  {
   "cell_type": "code",
   "execution_count": 38,
   "id": "33545378-918a-4a74-8875-c51912ef87bd",
   "metadata": {},
   "outputs": [],
   "source": [
    "def layer_sizes(X,Y):\n",
    "    n_x = X.shape[0]\n",
    "    n_y = Y.shape[0]\n",
    "\n",
    "    return(n_x,n_y)"
   ]
  },
  {
   "cell_type": "code",
   "execution_count": 40,
   "id": "8974d185-4eec-40f7-b1a9-19a6aea79929",
   "metadata": {},
   "outputs": [
    {
     "name": "stdout",
     "output_type": "stream",
     "text": [
      "The size of the input layer is: n_x = 1\n",
      "The size of the output layer is: n_y = 1\n"
     ]
    }
   ],
   "source": [
    "(n_x, n_y) = layer_sizes(X, Y)\n",
    "print(\"The size of the input layer is: n_x = \" + str(n_x))\n",
    "print(\"The size of the output layer is: n_y = \" + str(n_y))"
   ]
  },
  {
   "cell_type": "code",
   "execution_count": 45,
   "id": "02a5a486-55c5-42a4-bb4c-0c3d45f2bde6",
   "metadata": {},
   "outputs": [],
   "source": [
    "def initialize_parameters(n_x, n_y):\n",
    " \n",
    "    W = np.random.randn(n_y, n_x) * 0.01\n",
    "    b = np.zeros((n_y, 1))\n",
    "    ### END CODE HERE ###\n",
    "    \n",
    "    assert (W.shape == (n_y, n_x))\n",
    "    assert (b.shape == (n_y, 1))\n",
    "    \n",
    "    parameters = {\"W\": W,\n",
    "                  \"b\": b}\n",
    "    \n",
    "    return parameters\n"
   ]
  },
  {
   "cell_type": "code",
   "execution_count": 46,
   "id": "15759edf-6651-4bd5-9517-b8b8ae98c152",
   "metadata": {},
   "outputs": [
    {
     "name": "stdout",
     "output_type": "stream",
     "text": [
      "W = [[0.01747415]]\n",
      "b = [[0.]]\n"
     ]
    }
   ],
   "source": [
    "\n",
    "parameters = initialize_parameters(n_x, n_y)\n",
    "print(\"W = \" + str(parameters[\"W\"]))\n",
    "print(\"b = \" + str(parameters[\"b\"]))"
   ]
  },
  {
   "cell_type": "code",
   "execution_count": 47,
   "id": "8bbf73bc-af94-4e7d-bfc1-0e9400e85e3b",
   "metadata": {},
   "outputs": [],
   "source": [
    "def forward_parameters(X,parameters):\n",
    "    W = parameters[\"W\"]\n",
    "    b = parameters[\"b\"]\n",
    "\n",
    "    Z = np.dot(W,X) + b\n",
    "    Y_hat = Z\n",
    "\n",
    "    assert(Y_hat.shape == (n_y,X.shape[1]))\n",
    "    return Y_hat"
   ]
  },
  {
   "cell_type": "code",
   "execution_count": 50,
   "id": "c2023bfd-711d-4c08-bf49-7113203b335e",
   "metadata": {},
   "outputs": [
    {
     "name": "stdout",
     "output_type": "stream",
     "text": [
      "[[ 0.00557494 -0.01874922  0.01512227 -0.00301304  0.02000308  0.00878066\n",
      "  -0.04021744 -0.01194757 -0.00671102 -0.01533983 -0.03599921 -0.01923239\n",
      "  -0.01921967  0.01981166  0.03048911 -0.0021474  -0.01635178  0.02838406\n",
      "   0.0255491   0.01575453 -0.01330145  0.00926751 -0.00922935 -0.00468112\n",
      "   0.0101842   0.00073765  0.01574169 -0.00435754 -0.01068993 -0.00563397]]\n"
     ]
    }
   ],
   "source": [
    "Y_hat = forward_parameters(X,parameters)\n",
    "print(Y_hat)"
   ]
  },
  {
   "cell_type": "code",
   "execution_count": 51,
   "id": "eec8f880-ecaa-486a-b943-af7ea27c0dee",
   "metadata": {},
   "outputs": [],
   "source": [
    "def compute_cost(Y_hat,Y):\n",
    "    m = Y.shape[1]\n",
    "\n",
    "    cost = np.sum((Y_hat-Y)**2)/(2*m)\n",
    "\n",
    "    return cost"
   ]
  },
  {
   "cell_type": "code",
   "execution_count": 52,
   "id": "2add24a6-3fa7-4a7d-b978-de1fef200885",
   "metadata": {},
   "outputs": [
    {
     "name": "stdout",
     "output_type": "stream",
     "text": [
      "cost = 790.2339208902725\n"
     ]
    }
   ],
   "source": [
    "print(\"cost = \" + str(compute_cost(Y_hat, Y)))"
   ]
  },
  {
   "cell_type": "code",
   "execution_count": 60,
   "id": "bcc09f7a-4c5a-43eb-9253-04fcdaf6db9e",
   "metadata": {},
   "outputs": [
    {
     "name": "stdout",
     "output_type": "stream",
     "text": [
      "W = [[87.25004643]]\n",
      "b = [[0.35846968]]\n"
     ]
    }
   ],
   "source": [
    "parameters = w3_tools.train_nn(parameters, Y_hat, X, Y)\n",
    "\n",
    "print(\"W = \" + str(parameters[\"W\"]))\n",
    "print(\"b = \" + str(parameters[\"b\"]))"
   ]
  },
  {
   "cell_type": "code",
   "execution_count": 68,
   "id": "d16d8fef-19fb-48c6-8513-28319c71b0cf",
   "metadata": {},
   "outputs": [],
   "source": [
    "def nn_model(X,Y,num_iterations = 10, print_cost = False):\n",
    "    n_x = layer_sizes(X,Y)[0]\n",
    "    n_y = layer_sizes(X,Y)[1]\n",
    "\n",
    "    parameters = initialize_parameters(n_x,n_y)\n",
    "    #LOOP\n",
    "    for i in range(0,num_iterations):\n",
    "        Y_hat = np.dot(parameters[\"W\"],X)+parameters[\"b\"]\n",
    "\n",
    "        cost = np.sum((Y_hat - Y)**2)/(2*Y.shape[1])\n",
    "\n",
    "        parameters = w3_tools.train_nn(parameters, Y_hat, X, Y) \n",
    "\n",
    "        if print_cost:\n",
    "            print (\"Cost after iteration %i: %f\" %(i, cost))\n",
    "    return parameters"
   ]
  },
  {
   "cell_type": "code",
   "execution_count": 71,
   "id": "88326553-a8e5-43f1-8d91-d456f21cbfec",
   "metadata": {},
   "outputs": [
    {
     "name": "stdout",
     "output_type": "stream",
     "text": [
      "Cost after iteration 0: 790.980084\n",
      "Cost after iteration 1: 176.504595\n",
      "Cost after iteration 2: 143.770401\n",
      "Cost after iteration 3: 141.433458\n",
      "Cost after iteration 4: 141.248732\n",
      "Cost after iteration 5: 141.233727\n",
      "Cost after iteration 6: 141.232500\n",
      "Cost after iteration 7: 141.232400\n",
      "Cost after iteration 8: 141.232391\n",
      "Cost after iteration 9: 141.232391\n",
      "Cost after iteration 10: 141.232391\n",
      "Cost after iteration 11: 141.232391\n",
      "Cost after iteration 12: 141.232391\n",
      "Cost after iteration 13: 141.232391\n",
      "Cost after iteration 14: 141.232391\n",
      "W = [[35.71958208]]\n",
      "b = [[2.2893077]]\n"
     ]
    }
   ],
   "source": [
    "parameters = nn_model(X,Y,num_iterations = 15, print_cost = True)\n",
    "print(\"W = \" + str(parameters[\"W\"]))\n",
    "print(\"b = \" + str(parameters[\"b\"]))\n",
    "\n",
    "W_simple = parameters[\"W\"]\n",
    "b_simple = parameters[\"b\"]"
   ]
  },
  {
   "cell_type": "code",
   "execution_count": 72,
   "id": "be973421-acf2-4889-9456-5e84fd79c53e",
   "metadata": {},
   "outputs": [
    {
     "data": {
      "image/png": "[encoded data removed]",
      "text/plain": [
       "<Figure size 640x480 with 1 Axes>"
      ]
     },
     "metadata": {},
     "output_type": "display_data"
    }
   ],
   "source": [
    "X_pred = np.array([-0.95, 0.2, 1.5])\n",
    "\n",
    "fig, ax = plt.subplots()\n",
    "plt.scatter(X, Y, color = \"black\")\n",
    "\n",
    "plt.xlabel(\"$x$\")\n",
    "plt.ylabel(\"$y$\")\n",
    "    \n",
    "X_line = np.arange(np.min(X[0,:]),np.max(X[0,:])*1.1, 0.1)\n",
    "ax.plot(X_line, W_simple[0,0] * X_line + b_simple[0,0], \"r\")\n",
    "ax.plot(X_pred, W_simple[0,0] * X_pred + b_simple[0,0], \"bo\")\n",
    "plt.plot()\n",
    "plt.show()"
   ]
  }
 ],
 "metadata": {
  "kernelspec": {
   "display_name": "Python 3 (ipykernel)",
   "language": "python",
   "name": "python3"
  },
  "language_info": {
   "codemirror_mode": {
    "name": "ipython",
    "version": 3
   },
   "file_extension": ".py",
   "mimetype": "text/x-python",
   "name": "python",
   "nbconvert_exporter": "python",
   "pygments_lexer": "ipython3",
   "version": "3.13.5"
  }
 },
 "nbformat": 4,
 "nbformat_minor": 5
}
