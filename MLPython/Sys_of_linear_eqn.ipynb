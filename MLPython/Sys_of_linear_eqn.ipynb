{
 "cells": [
  {
   "cell_type": "code",
   "execution_count": 1,
   "id": "f9760787-bbf2-4a49-a4e6-242edecdfcae",
   "metadata": {},
   "outputs": [],
   "source": [
    "import numpy as np "
   ]
  },
  {
   "cell_type": "code",
   "execution_count": 8,
   "id": "d2eda27b-45f1-4a85-af38-86d69045cc9e",
   "metadata": {},
   "outputs": [],
   "source": [
    "A = np.array([\n",
    "        [2,-1,1,1],\n",
    "        [1,2,-1,-1],\n",
    "        [-1,2,2,2],\n",
    "        [1,-1,2,1]\n",
    "    ],dtype = np.dtype(float))\n",
    "b = np.array([6,3,14,8],dtype = np.dtype(float))"
   ]
  },
  {
   "cell_type": "code",
   "execution_count": 9,
   "id": "3f46a3ba-4e71-42a7-865e-a6ac5c561ddf",
   "metadata": {},
   "outputs": [
    {
     "name": "stdout",
     "output_type": "stream",
     "text": [
      "Determinant of matrix A: -17.00\n",
      "Solution vector: [2. 3. 4. 1.]\n"
     ]
    }
   ],
   "source": [
    "d = np.linalg.det(A)\n",
    "\n",
    "x = np.linalg.solve(A,b)\n",
    "\n",
    "print(f\"Determinant of matrix A: {d:.2f}\")\n",
    "\n",
    "print(f\"Solution vector: {x}\")"
   ]
  },
  {
   "cell_type": "code",
   "execution_count": 11,
   "id": "53e3d007-6ab5-4977-9c40-275041f02cdd",
   "metadata": {},
   "outputs": [],
   "source": [
    "def MultiplyRow(M, row_num, row_num_multiple):\n",
    "    # .copy() function is required here to keep the original matrix without any changes\n",
    "    M_new = M.copy()     \n",
    "    \n",
    "    M_new[row_num] = M_new[row_num] * row_num_multiple\n",
    "    return M_new\n",
    "    \n",
    "def AddRows(M, row_num_1, row_num_2, row_num_1_multiple):\n",
    "    M_new = M.copy()     \n",
    "    \n",
    "    M_new[row_num_2] = M_new[row_num_1] * row_num_1_multiple + M_new[row_num_2]\n",
    "    return M_new\n",
    "\n",
    "def SwapRows(M, row_num_1, row_num_2):\n",
    "    M_new = M.copy()     \n",
    "    \n",
    "    M_new[[row_num_1, row_num_2]] = M_new[[row_num_2, row_num_1]]\n",
    "    return M_new"
   ]
  },
  {
   "cell_type": "code",
   "execution_count": 12,
   "id": "46fc4895-6b09-4b07-9a72-6d3329f3077a",
   "metadata": {},
   "outputs": [
    {
     "name": "stdout",
     "output_type": "stream",
     "text": [
      "Original matrix:\n",
      "[[ 1. -2.  3.  4.]\n",
      " [-5.  6. -7.  8.]\n",
      " [-4.  3. -2.  1.]\n",
      " [ 8. -7.  6. -5.]]\n",
      "\n",
      "Original matrix after its third row is multiplied by -2:\n",
      "[[ 1. -2.  3.  4.]\n",
      " [-5.  6. -7.  8.]\n",
      " [ 8. -6.  4. -2.]\n",
      " [ 8. -7.  6. -5.]]\n",
      "\n",
      "Original matrix after exchange of the third row with the sum of itself and first row multiplied by 4:\n",
      "[[ 1. -2.  3.  4.]\n",
      " [-5.  6. -7.  8.]\n",
      " [ 0. -5. 10. 17.]\n",
      " [ 8. -7.  6. -5.]]\n",
      "\n",
      "Original matrix after exchange of its first and third rows:\n",
      "[[-4.  3. -2.  1.]\n",
      " [-5.  6. -7.  8.]\n",
      " [ 1. -2.  3.  4.]\n",
      " [ 8. -7.  6. -5.]]\n"
     ]
    }
   ],
   "source": [
    "A_test = np.array([\n",
    "        [1,-2,3,4],\n",
    "        [-5,6,-7,8],\n",
    "        [-4,3,-2,1],\n",
    "        [8,-7,6,-5]    \n",
    "    ],dtype=np.dtype(float))\n",
    "print(\"Original matrix:\")\n",
    "print(A_test)\n",
    "\n",
    "print(\"\\nOriginal matrix after its third row is multiplied by -2:\")\n",
    "print(MultiplyRow(A_test,2,-2))\n",
    "\n",
    "print(\"\\nOriginal matrix after exchange of the third row with the sum of itself and first row multiplied by 4:\")\n",
    "print(AddRows(A_test,0,2,4))\n",
    "\n",
    "print(\"\\nOriginal matrix after exchange of its first and third rows:\")\n",
    "print(SwapRows(A_test,0,2))\n"
   ]
  }
 ],
 "metadata": {
  "kernelspec": {
   "display_name": "Python 3 (ipykernel)",
   "language": "python",
   "name": "python3"
  },
  "language_info": {
   "codemirror_mode": {
    "name": "ipython",
    "version": 3
   },
   "file_extension": ".py",
   "mimetype": "text/x-python",
   "name": "python",
   "nbconvert_exporter": "python",
   "pygments_lexer": "ipython3",
   "version": "3.13.5"
  }
 },
 "nbformat": 4,
 "nbformat_minor": 5
}
